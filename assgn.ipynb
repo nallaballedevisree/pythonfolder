{
 "cells": [
  {
   "cell_type": "code",
   "execution_count": 4,
   "metadata": {},
   "outputs": [
    {
     "name": "stdout",
     "output_type": "stream",
     "text": [
      "lowercase text1: good  understanding in circuit design techniques analog and digital.\n",
      "having good knowledge in pcb layout design for multi layers with standards and policy rules.\n",
      "good knowledge in schematic and pcb layout design. altium is a plus.\n",
      "split text1: ['Good', 'Understanding', 'in', 'Circuit', 'Design', 'Techniques', 'Analog', 'and', 'Digital.', 'Having', 'good', 'Knowledge', 'in', 'PCB', 'layout', 'design', 'for', 'Multi', 'Layers', 'with', 'standards', 'and', 'Policy', 'Rules.', 'Good', 'Knowledge', 'in', 'Schematic', 'and', 'PCB', 'layout', 'design.', 'Altium', 'is', 'a', 'plus.']\n",
      "Word count: 36\n"
     ]
    }
   ],
   "source": [
    "text1= (\"\"\"Good  Understanding in Circuit Design Techniques Analog and Digital.\n",
    "Having good Knowledge in PCB layout design for Multi Layers with standards and Policy Rules.\n",
    "Good Knowledge in Schematic and PCB layout design. Altium is a plus.\"\"\")\n",
    "lowercase_text1=text1.lower()\n",
    "split_text1=text1.split()\n",
    "word_count=len(split_text1)\n",
    "print(\"lowercase text1:\",lowercase_text1)\n",
    "print(\"split text1:\",split_text1)\n",
    "print(\"Word count:\",word_count)"
   ]
  },
  {
   "cell_type": "code",
   "execution_count": null,
   "metadata": {},
   "outputs": [],
   "source": []
  },
  {
   "cell_type": "code",
   "execution_count": 8,
   "metadata": {},
   "outputs": [
    {
     "name": "stdout",
     "output_type": "stream",
     "text": [
      "Lowercase_text1:\n",
      "proficient in documentation and well versed with ms-word, excel, power point.  \n",
      "\n",
      "split_text1:\n",
      "Proficient\n",
      "in\n",
      "documentation\n",
      "and\n",
      "well\n",
      "versed\n",
      "with\n",
      "MS-Word,\n",
      "Excel,\n",
      "Power\n",
      "point.\n",
      "\n",
      "Word Count:\n",
      "11\n",
      "\n"
     ]
    }
   ],
   "source": [
    "text1=(\"Proficient in documentation and well versed with MS-Word, Excel, Power point.  \")\n",
    "lowercase_text1=text1.lower()\n",
    "print(\"Lowercase_text1:\")\n",
    "print(lowercase_text1)\n",
    "print()\n",
    "split_text1=text1.split()\n",
    "print(\"split_text1:\")\n",
    "for word in split_text1:\n",
    "    print(word)\n",
    "print()\n",
    "word_count = len(split_text1)\n",
    "print(\"Word Count:\")\n",
    "print(word_count)\n",
    "print()    "
   ]
  },
  {
   "cell_type": "code",
   "execution_count": null,
   "metadata": {},
   "outputs": [],
   "source": []
  }
 ],
 "metadata": {
  "kernelspec": {
   "display_name": "Python 3",
   "language": "python",
   "name": "python3"
  },
  "language_info": {
   "codemirror_mode": {
    "name": "ipython",
    "version": 3
   },
   "file_extension": ".py",
   "mimetype": "text/x-python",
   "name": "python",
   "nbconvert_exporter": "python",
   "pygments_lexer": "ipython3",
   "version": "3.12.2"
  }
 },
 "nbformat": 4,
 "nbformat_minor": 2
}
