{
 "cells": [
  {
   "cell_type": "code",
   "execution_count": 4,
   "metadata": {},
   "outputs": [
    {
     "name": "stdout",
     "output_type": "stream",
     "text": [
      "lowercase text1: good  understanding in circuit design techniques analog and digital.\n",
      "having good knowledge in pcb layout design for multi layers with standards and policy rules.\n",
      "good knowledge in schematic and pcb layout design. altium is a plus.\n",
      "split text1: ['Good', 'Understanding', 'in', 'Circuit', 'Design', 'Techniques', 'Analog', 'and', 'Digital.', 'Having', 'good', 'Knowledge', 'in', 'PCB', 'layout', 'design', 'for', 'Multi', 'Layers', 'with', 'standards', 'and', 'Policy', 'Rules.', 'Good', 'Knowledge', 'in', 'Schematic', 'and', 'PCB', 'layout', 'design.', 'Altium', 'is', 'a', 'plus.']\n",
      "Word count: 36\n"
     ]
    }
   ],
   "source": [
    "text1= (\"\"\"Good  Understanding in Circuit Design Techniques Analog and Digital.\n",
    "Having good Knowledge in PCB layout design for Multi Layers with standards and Policy Rules.\n",
    "Good Knowledge in Schematic and PCB layout design. Altium is a plus.\"\"\")\n",
    "lowercase_text1=text1.lower()\n",
    "split_text1=text1.split()\n",
    "word_count=len(split_text1)\n",
    "print(\"lowercase text1:\",lowercase_text1)\n",
    "print(\"split text1:\",split_text1)\n",
    "print(\"Word count:\",word_count)"
   ]
  },
  {
   "cell_type": "code",
   "execution_count": null,
   "metadata": {},
   "outputs": [],
   "source": []
  },
  {
   "cell_type": "code",
   "execution_count": 8,
   "metadata": {},
   "outputs": [
    {
     "name": "stdout",
     "output_type": "stream",
     "text": [
      "Lowercase_text1:\n",
      "proficient in documentation and well versed with ms-word, excel, power point.  \n",
      "\n",
      "split_text1:\n",
      "Proficient\n",
      "in\n",
      "documentation\n",
      "and\n",
      "well\n",
      "versed\n",
      "with\n",
      "MS-Word,\n",
      "Excel,\n",
      "Power\n",
      "point.\n",
      "\n",
      "Word Count:\n",
      "11\n",
      "\n"
     ]
    }
   ],
   "source": [
    "text1=(\"Proficient in documentation and well versed with MS-Word, Excel, Power point.  \")\n",
    "lowercase_text1=text1.lower()\n",
    "print(\"Lowercase_text1:\")\n",
    "print(lowercase_text1)\n",
    "print()\n",
    "split_text1=text1.split()\n",
    "print(\"split_text1:\")\n",
    "for word in split_text1:\n",
    "    print(word)\n",
    "print()\n",
    "word_count = len(split_text1)\n",
    "print(\"Word Count:\")\n",
    "print(word_count)\n",
    "print()    "
   ]
  },
  {
   "cell_type": "code",
   "execution_count": 3,
   "metadata": {},
   "outputs": [
    {
     "name": "stdout",
     "output_type": "stream",
     "text": [
      "Lowercase_text2:\n",
      "large language models (llms): building and fine-tuning\n",
      "unstructured @data (ocr, named entity recognition): \n",
      "supervised, unsupervised, and reinforcement learning:\n",
      "ci/cd, docker, &kubernetes:\n",
      "mlops $practices:\n",
      "hadoop and spark:\n",
      "sql and nosql databases:\n",
      "\n",
      "split_text2:\n",
      "Large\n",
      "Language\n",
      "Models\n",
      "(LLMs):\n",
      "Building\n",
      "and\n",
      "fine-tuning\n",
      "Unstructured\n",
      "@Data\n",
      "(OCR,\n",
      "Named\n",
      "Entity\n",
      "Recognition):\n",
      "Supervised,\n",
      "Unsupervised,\n",
      "and\n",
      "Reinforcement\n",
      "Learning:\n",
      "CI/CD,\n",
      "Docker,\n",
      "&Kubernetes:\n",
      "MLOps\n",
      "$Practices:\n",
      "Hadoop\n",
      "and\n",
      "Spark:\n",
      "SQL\n",
      "and\n",
      "NoSQL\n",
      "Databases:\n",
      "\n",
      "Word Count:\n",
      "30\n",
      "\n"
     ]
    },
    {
     "ename": "AttributeError",
     "evalue": "'str' object has no attribute 'remove'",
     "output_type": "error",
     "traceback": [
      "\u001b[1;31m---------------------------------------------------------------------------\u001b[0m",
      "\u001b[1;31mAttributeError\u001b[0m                            Traceback (most recent call last)",
      "Cell \u001b[1;32mIn[3], line 47\u001b[0m\n\u001b[0;32m     45\u001b[0m \u001b[38;5;28mprint\u001b[39m(word_count)\n\u001b[0;32m     46\u001b[0m \u001b[38;5;28mprint\u001b[39m() \n\u001b[1;32m---> 47\u001b[0m specialcharacters_text2\u001b[38;5;241m=\u001b[39m\u001b[43mtext2\u001b[49m\u001b[38;5;241;43m.\u001b[39;49m\u001b[43mremove\u001b[49m()\n\u001b[0;32m     48\u001b[0m \u001b[38;5;28mprint\u001b[39m(\u001b[38;5;124m\"\u001b[39m\u001b[38;5;124mremoving specialcharacters:\u001b[39m\u001b[38;5;124m\"\u001b[39m)\n\u001b[0;32m     49\u001b[0m \u001b[38;5;28mprint\u001b[39m()   \n",
      "\u001b[1;31mAttributeError\u001b[0m: 'str' object has no attribute 'remove'"
     ]
    }
   ],
   "source": [
    "text1=\"\"\"\n",
    "As a Data Scientist with a Ph.D., this role will be multifaceted, involving advanced data analysis, statistical modeling, and algorithm development. \n",
    "Person will be responsible for deriving insights from complex datasets, guiding decision-making processes, and driving innovation within the organization.\n",
    "ResponsibilitiesData Analysis and Exploration: Utilize advanced statistical techniques to analyze large datasets and extract actionable insights.\n",
    "Data Visualization and Communication:Present findings and insights to stakeholders using compelling data visualizations, reports, and presentations.Collaborate with business teams to translate analytical findings into actionable recommendations.\"\"\"\n",
    "\n",
    "text2=\"\"\"Large Language Models (LLMs): Building and fine-tuning\n",
    "Unstructured @Data (OCR, Named Entity Recognition): \n",
    "Supervised, Unsupervised, and Reinforcement Learning:\n",
    "CI/CD, Docker, &Kubernetes:\n",
    "MLOps $Practices:\n",
    "Hadoop and Spark:\n",
    "SQL and NoSQL Databases:\"\"\"\n",
    "\n",
    "text3=\"\"\"Preferred Proficiency with statistical analysis tools (e.g., SAS, SPSS, R & Python) \n",
    "Hands on experience in Statistical Techniques & Deep Learning such as Decision Tree, Segmentation, Logistic and Multiple Regression, and others Experience of Forecasting, \n",
    "Campaign Management and Customer Segmentation is desirable Strong Excel, Access and PowerPoint skills Familiarity with database query tools (SQL) \n",
    "Basic understanding of data warehouse architecture Understanding of various Analytical Tools, Platform & Frameworks.\n",
    "\"\"\"\n",
    "\n",
    "text4=\"\"\"Data Science Hands on experience and strong knowledge of building machine learning models – supervised and unsupervised models. Knowledge of Time series/Demand Forecast models is a plus\n",
    "Programming Skills – Hands-on experience in statistical programming languages like Python, Pyspark and database query languages like SQL\n",
    "Statistics – Good applied statistical skills, including knowledge of statistical tests, distributions, regression, maximum likelihood estimators\n",
    "Cloud (Azure) – Experience in Databricks and ADF is desirable\n",
    "Familiarity with Spark, Hive, Pig is an added advantage\"\"\"\n",
    "\n",
    "text5=\"\"\"Expertise regarding data models, database design development, data mining and segmentation techniques.\n",
    "Strong knowledge of and experience with reporting tools (Tableau), databases (SQL etc), programming (R, Python).\n",
    "Knowledge of advanced statistical techniques and concepts (regression, properties of distributions, statistical tests etc.) and experience with applications.\n",
    "Strong analytics skill with the ability to collect, organize, analyze, and disseminate significant amounts of information with attention to detail and accuracy\n",
    "Knowledge of a variety of machine learning techniques/models (k-means, decision trees, random forest etc.)\n",
    "Expertise in writing and reviewing SQL Queries\n",
    "Good knowledge in various machine learning\"\"\"\n",
    "lowercase_text2=text2.lower()\n",
    "print(\"Lowercase_text2:\")\n",
    "print(lowercase_text2)\n",
    "print()\n",
    "split_text2=text2.split()\n",
    "print(\"split_text2:\")\n",
    "for word in split_text2:\n",
    "    print(word)\n",
    "print()\n",
    "word_count = len(split_text2)\n",
    "print(\"Word Count:\")\n",
    "print(word_count)\n",
    "print() \n",
    "  \n",
    "\n",
    "\n",
    "\n",
    "\n",
    "\n"
   ]
  }
 ],
 "metadata": {
  "kernelspec": {
   "display_name": "Python 3",
   "language": "python",
   "name": "python3"
  },
  "language_info": {
   "codemirror_mode": {
    "name": "ipython",
    "version": 3
   },
   "file_extension": ".py",
   "mimetype": "text/x-python",
   "name": "python",
   "nbconvert_exporter": "python",
   "pygments_lexer": "ipython3",
   "version": "3.12.2"
  }
 },
 "nbformat": 4,
 "nbformat_minor": 2
}
